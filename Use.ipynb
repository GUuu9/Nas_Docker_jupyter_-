{
 "cells": [
  {
   "cell_type": "markdown",
   "id": "bf9ed86d-01f8-47e6-8c00-6f80725228e6",
   "metadata": {},
   "source": [
    "## 나눔이 들어간 폰트 확인"
   ]
  },
  {
   "cell_type": "code",
   "execution_count": 1,
   "id": "95a62232-a942-4071-ba75-1e888f642411",
   "metadata": {},
   "outputs": [
    {
     "data": {
      "text/plain": [
       "['NanumBarunGothic',\n",
       " 'NanumMyeongjo Eco',\n",
       " 'NanumMyeongjo Eco',\n",
       " 'Nanum Brush Script',\n",
       " 'NanumMyeongjo',\n",
       " 'NanumBarunGothic',\n",
       " 'NanumGothic Eco',\n",
       " 'NanumBarunGothic',\n",
       " 'NanumGothic',\n",
       " 'NanumSquareRound',\n",
       " 'NanumSquareRound',\n",
       " 'NanumBarunpen',\n",
       " 'NanumGothicCoding',\n",
       " 'NanumMyeongjo Eco',\n",
       " 'NanumGothic',\n",
       " 'NanumSquareRound',\n",
       " 'NanumBarunpen',\n",
       " 'NanumGothic Eco',\n",
       " 'NanumMyeongjo',\n",
       " 'NanumSquare',\n",
       " 'NanumGothic Eco',\n",
       " 'NanumSquare',\n",
       " 'NanumGothic',\n",
       " 'NanumSquare',\n",
       " 'NanumGothic',\n",
       " 'NanumGothicCoding',\n",
       " 'NanumSquare',\n",
       " 'NanumBarunGothic',\n",
       " 'NanumMyeongjo',\n",
       " 'NanumSquareRound',\n",
       " 'Nanum Pen Script']"
      ]
     },
     "execution_count": 1,
     "metadata": {},
     "output_type": "execute_result"
    }
   ],
   "source": [
    "import matplotlib.font_manager\n",
    "[f.name for f in matplotlib.font_manager.fontManager.ttflist if 'Nanum' in f.name]"
   ]
  },
  {
   "cell_type": "code",
   "execution_count": 3,
   "id": "de9d99a3-ac2a-41f8-ad85-1216d264b6ed",
   "metadata": {},
   "outputs": [],
   "source": [
    "# 한글을 표시하기 위해 폰트를 지정합니다. \n",
    "import matplotlib\n",
    "import matplotlib.pyplot as plt\n",
    "from matplotlib import font_manager, rc\n",
    "import platform \n",
    "\n",
    "# Os별 한글 사용\n",
    "# platform.system()  명령을 통해 os 확인 가능\n",
    "\n",
    "if platform.system() == 'Windows':  \n",
    "    font_name = font_manager.FontProperties(fname=\"c:/Windows/Fonts/malgun.ttf\").get_name()\n",
    "    rc('font', family=font_name)\n",
    "elif platform.system() == 'Linux':\n",
    "    rc('font', family='NanumGothic')\n",
    "else:  \n",
    "    rc('font', family='AppleGothic')\n",
    "\n",
    "#그래프에서 마이너스 기호 표시\n",
    "matplotlib.rcParams['axes.unicode_minus'] = False "
   ]
  },
  {
   "cell_type": "code",
   "execution_count": null,
   "id": "bbd59532-2724-4653-93f3-e57e816aef80",
   "metadata": {},
   "outputs": [],
   "source": []
  }
 ],
 "metadata": {
  "kernelspec": {
   "display_name": "Python 3 (ipykernel)",
   "language": "python",
   "name": "python3"
  },
  "language_info": {
   "codemirror_mode": {
    "name": "ipython",
    "version": 3
   },
   "file_extension": ".py",
   "mimetype": "text/x-python",
   "name": "python",
   "nbconvert_exporter": "python",
   "pygments_lexer": "ipython3",
   "version": "3.9.10"
  }
 },
 "nbformat": 4,
 "nbformat_minor": 5
}
